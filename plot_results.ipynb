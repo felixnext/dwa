{
 "cells": [
  {
   "cell_type": "markdown",
   "metadata": {},
   "source": [
    "# Result analytics\n",
    "\n",
    "This notebook will load the result data from approaches and analyze the results and display charts\n",
    "\n",
    "## Load Data"
   ]
  },
  {
   "cell_type": "code",
   "execution_count": 17,
   "metadata": {},
   "outputs": [],
   "source": [
    "import pandas as pd\n",
    "import numpy as np\n",
    "import os\n",
    "import gzip\n",
    "import pickle\n",
    "from glob import glob\n",
    "\n",
    "folder = \"/data/research/dwa\""
   ]
  },
  {
   "cell_type": "code",
   "execution_count": 21,
   "metadata": {},
   "outputs": [],
   "source": [
    "# load results\n",
    "results = {}\n",
    "for file in glob(os.path.join(folder, \"*.txt\")):\n",
    "    exp_name = os.path.splitext(os.path.basename(file))[0]\n",
    "    results[exp_name] = np.loadtxt(file)\n",
    "    \n",
    "# load logs\n",
    "logs = {}\n",
    "folder = \"/results/res\"  # DEBUG: stored in diff folder currently\n",
    "for file in glob(os.path.join(folder, \"*.gzip\")):\n",
    "    exp_name = os.path.splitext(os.path.splitext(os.path.basename(file))[0])[0]\n",
    "    with gzip.open(file, 'rb') as log_file:\n",
    "        log = pickle.load(log_file)\n",
    "    logs[exp_name] = log"
   ]
  },
  {
   "cell_type": "code",
   "execution_count": 23,
   "metadata": {},
   "outputs": [
    {
     "name": "stdout",
     "output_type": "stream",
     "text": [
      "mixture_ewc_0_base\n",
      "mixture_ewc_0_curric\n",
      "mixture_ewc_0_lam500\n",
      "mixture_ewc_0_lam5000\n",
      "mixture_ewc_0_lam50000\n",
      "mixture_hat_0_base\n",
      "mixture_hat_0_curric\n",
      "mixture_imm-mean_0_base\n",
      "mixture_imm-mode_0_base\n",
      "mixture_joint_0_base\n",
      "mixture_lfl_0_base\n",
      "mixture_lwf_0_base\n",
      "mixture_pathnet_0_base\n",
      "mixture_progressive_0_base\n",
      "mixture_random_0_base\n",
      "mixture_sgd-frozen_0_base\n",
      "mixture_sgd-frozen_0_curric\n",
      "mixture_sgd-restart_0_base\n",
      "mixture_sgd-restart_0_curric\n",
      "mixture_sgd_0_base\n",
      "mixture_sgd_0_curric\n"
     ]
    }
   ],
   "source": [
    "# show loaded experiments\n",
    "for exp in results:\n",
    "    print(exp)"
   ]
  },
  {
   "cell_type": "markdown",
   "metadata": {},
   "source": [
    "## Plot Results\n",
    "\n",
    "Plots results and relevant forgetting ratios"
   ]
  },
  {
   "cell_type": "code",
   "execution_count": 26,
   "metadata": {},
   "outputs": [],
   "source": [
    "# define a name map (defines which objects should be loaded)\n",
    "exp_map = {\n",
    "    \"mixture_lfl_0_base\": \"LfL\"\n",
    "}\n",
    "# alternative: pass all names as is (debug)\n",
    "exp_map = dict(zip(results.keys(), results.keys()))"
   ]
  },
  {
   "cell_type": "code",
   "execution_count": null,
   "metadata": {},
   "outputs": [],
   "source": [
    "# TODO: plot data together"
   ]
  }
 ],
 "metadata": {
  "kernelspec": {
   "display_name": "Python 3",
   "language": "python",
   "name": "python3"
  },
  "language_info": {
   "codemirror_mode": {
    "name": "ipython",
    "version": 3
   },
   "file_extension": ".py",
   "mimetype": "text/x-python",
   "name": "python",
   "nbconvert_exporter": "python",
   "pygments_lexer": "ipython3",
   "version": "3.7.6"
  }
 },
 "nbformat": 4,
 "nbformat_minor": 4
}
